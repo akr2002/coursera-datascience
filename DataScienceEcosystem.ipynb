{
 "cells": [
  {
   "cell_type": "markdown",
   "id": "fd1830f0-e914-4d9f-aca2-811f7d7109d8",
   "metadata": {},
   "source": [
    "# Data Science Tools and Ecosystem"
   ]
  },
  {
   "cell_type": "markdown",
   "id": "db550e13-c438-4d15-ae5a-dbbb6be5e315",
   "metadata": {},
   "source": [
    "## Author\n",
    "Aditya Kumar"
   ]
  },
  {
   "cell_type": "markdown",
   "id": "1acca404-3866-4c85-8eee-48892bfb131a",
   "metadata": {},
   "source": [
    "In this notebook, Data Science Tools and Ecosystem are summarized."
   ]
  },
  {
   "cell_type": "markdown",
   "id": "0699ad7c-cce3-4d45-a4f7-159ef801ea26",
   "metadata": {},
   "source": [
    "**Objectives:**\n",
    "- List popular languages for data science\n",
    "- List commonly used libraries for data science\n",
    "- List data science tools"
   ]
  },
  {
   "cell_type": "markdown",
   "id": "c6563560-8468-474c-8303-6e7873307d04",
   "metadata": {},
   "source": [
    "Some of the popular languages that Data Scientists use are:\n",
    "1. Python\n",
    "2. R\n",
    "3. SQL\n",
    "4. Java\n",
    "5. Scala"
   ]
  },
  {
   "cell_type": "markdown",
   "id": "c57f99ee-6027-41e3-940f-3119a45b918b",
   "metadata": {},
   "source": [
    "Some of the commonly used libraries used by Data Scientists include:\n",
    "1. Matplotlib\n",
    "2. NumPy\n",
    "3. Seaborn\n",
    "4. Pandas\n",
    "5. Keras"
   ]
  },
  {
   "cell_type": "markdown",
   "id": "0bb6ab9a-d99a-42f5-b17d-7db279666a5f",
   "metadata": {},
   "source": [
    "Data Science Tools\n",
    "| **Tool Name**      | **Primary Use Case**             | **Language(s) Supported**  | **Description**                                                                 |\n",
    "|--------------------|----------------------------------|----------------------------|---------------------------------------------------------------------------------|\n",
    "| **R**              | Statistical Computing            | R                          | A language and environment for statistical analysis and visualization.          |\n",
    "| **Python**         | General Data Science             | Python                     | A versatile language widely used for data analysis, machine learning, and AI.    |\n",
    "| **Apache Spark**    | Big Data Processing              | Scala, Java, Python, R      | A fast, in-memory data processing engine for large-scale data analysis.          |\n",
    "| **TensorFlow**     | Machine Learning/Deep Learning   | Python, C++                | An open-source framework for machine learning and neural networks.               |\n",
    "| **Keras**          | Deep Learning                    | Python                     | A user-friendly API for building neural networks, typically used with TensorFlow.|\n",
    "| **Tableau**        | Data Visualization               | N/A                        | A business intelligence tool for interactive data visualization.                 |\n",
    "| **Jupyter Notebook**| Interactive Computing            | Python, R, Julia            | An open-source web application for interactive data science and analysis.        |\n",
    "| **Pandas**         | Data Manipulation                | Python                     | A Python library for data manipulation and analysis, especially with tabular data.|\n",
    "| **Matplotlib**     | Data Visualization               | Python                     | A plotting library in Python used for creating static, animated, and interactive visualizations. |\n",
    "| **Hadoop**         | Big Data Storage/Processing      | Java                       | A framework for distributed storage and processing of large data sets.           |\n",
    "| **Power BI**       | Business Intelligence            | N/A                        | A Microsoft tool for business analytics and data visualization.                  |\n",
    "| **KNIME**          | Data Analytics                   | N/A                        | An open-source platform for data analytics, reporting, and integration.          |\n",
    "| **SAS**            | Statistical Analysis             | SAS                         | A suite of software solutions for advanced analytics, business intelligence, and data management. |\n",
    "| **Databricks**     | Collaborative Analytics Platform | Python, Scala, SQL         | A unified analytics platform built on Apache Spark for big data and machine learning. |\n"
   ]
  },
  {
   "cell_type": "markdown",
   "id": "355bffbe-5a86-46b0-ac31-2222b33ed5ef",
   "metadata": {},
   "source": [
    "### Below are a few examples of evaluating arithmetic expressions in Python"
   ]
  },
  {
   "cell_type": "code",
   "execution_count": 1,
   "id": "df59d865-06e5-494e-8f84-2587f90b2631",
   "metadata": {},
   "outputs": [
    {
     "data": {
      "text/plain": [
       "17"
      ]
     },
     "execution_count": 1,
     "metadata": {},
     "output_type": "execute_result"
    }
   ],
   "source": [
    "# This a simple arithmetic expression to mutiply then add integers\n",
    "(3*4)+5"
   ]
  },
  {
   "cell_type": "code",
   "execution_count": 2,
   "id": "49d29246-4289-45ad-b2c8-7d0e78fa9655",
   "metadata": {},
   "outputs": [
    {
     "data": {
      "text/plain": [
       "3.3333333333333335"
      ]
     },
     "execution_count": 2,
     "metadata": {},
     "output_type": "execute_result"
    }
   ],
   "source": [
    "# This will convert 200 minutes to hours by diving by 60\n",
    "200/60"
   ]
  },
  {
   "cell_type": "code",
   "execution_count": null,
   "id": "f4d7e343-11b0-4b17-8680-4f1950e43e64",
   "metadata": {},
   "outputs": [],
   "source": []
  }
 ],
 "metadata": {
  "kernelspec": {
   "display_name": "Python 3 (ipykernel)",
   "language": "python",
   "name": "python3"
  },
  "language_info": {
   "codemirror_mode": {
    "name": "ipython",
    "version": 3
   },
   "file_extension": ".py",
   "mimetype": "text/x-python",
   "name": "python",
   "nbconvert_exporter": "python",
   "pygments_lexer": "ipython3",
   "version": "3.12.4"
  }
 },
 "nbformat": 4,
 "nbformat_minor": 5
}
